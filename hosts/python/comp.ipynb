{
 "cells": [
  {
   "cell_type": "code",
   "execution_count": 1,
   "id": "ad38331f-cf20-4937-986b-42e958bc5121",
   "metadata": {},
   "outputs": [],
   "source": [
    "def component(*comp_args): \n",
    "    return lambda *args, **kwargs: (comp_args[0], args, kwargs)\n",
    "params = object()\n",
    "id = object()\n",
    "dynamic = object()\n",
    "impl = object()\n",
    "\n"
   ]
  },
  {
   "cell_type": "code",
   "execution_count": 2,
   "id": "bc5427cc-074d-4da6-bfd5-d2e07d5a8a27",
   "metadata": {},
   "outputs": [],
   "source": [
    "equals1 = component('equals',{\n",
    "    params: [\n",
    "        {id: 'item1', dynamic: True },\n",
    "        {id: 'item2', dynamic: True },\n",
    "    ],\n",
    "    impl: lambda ctx,item1,item2: item1(ctx) == item2(ctx)\n",
    "})"
   ]
  },
  {
   "cell_type": "code",
   "execution_count": 3,
   "id": "ed5fb440-dc63-4e50-8699-5436d3d53934",
   "metadata": {},
   "outputs": [
    {
     "ename": "NameError",
     "evalue": "name 'equals' is not defined",
     "output_type": "error",
     "traceback": [
      "\u001b[0;31m---------------------------------------------------------------------------\u001b[0m",
      "\u001b[0;31mNameError\u001b[0m                                 Traceback (most recent call last)",
      "Cell \u001b[0;32mIn[3], line 1\u001b[0m\n\u001b[0;32m----> 1\u001b[0m \u001b[43mequals\u001b[49m(\u001b[38;5;241m1\u001b[39m,item1 \u001b[38;5;241m=\u001b[39m \u001b[38;5;241m3\u001b[39m, item2 \u001b[38;5;241m=\u001b[39m \u001b[38;5;241m4\u001b[39m)\n",
      "\u001b[0;31mNameError\u001b[0m: name 'equals' is not defined"
     ]
    }
   ],
   "source": [
    "equals(1,item1 = 3, item2 = 4)"
   ]
  },
  {
   "cell_type": "code",
   "execution_count": 4,
   "id": "79bec693-81d2-4ff3-b3cf-c1092a2f7cdc",
   "metadata": {},
   "outputs": [
    {
     "ename": "TypeError",
     "evalue": "equals() got an unexpected keyword argument 'item1'",
     "output_type": "error",
     "traceback": [
      "\u001b[0;31m---------------------------------------------------------------------------\u001b[0m",
      "\u001b[0;31mTypeError\u001b[0m                                 Traceback (most recent call last)",
      "Cell \u001b[0;32mIn[4], line 2\u001b[0m\n\u001b[1;32m      1\u001b[0m \u001b[38;5;28;01mfrom\u001b[39;00m \u001b[38;5;21;01mjb_common\u001b[39;00m \u001b[38;5;28;01mimport\u001b[39;00m \u001b[38;5;241m*\u001b[39m\n\u001b[0;32m----> 2\u001b[0m \u001b[43mequals\u001b[49m\u001b[43m(\u001b[49m\u001b[38;5;241;43m1\u001b[39;49m\u001b[43m,\u001b[49m\u001b[43mitem1\u001b[49m\u001b[43m \u001b[49m\u001b[38;5;241;43m=\u001b[39;49m\u001b[43m \u001b[49m\u001b[38;5;241;43m3\u001b[39;49m\u001b[43m,\u001b[49m\u001b[43m \u001b[49m\u001b[43mitem2\u001b[49m\u001b[43m \u001b[49m\u001b[38;5;241;43m=\u001b[39;49m\u001b[43m \u001b[49m\u001b[38;5;241;43m4\u001b[39;49m\u001b[43m)\u001b[49m\n",
      "\u001b[0;31mTypeError\u001b[0m: equals() got an unexpected keyword argument 'item1'"
     ]
    }
   ],
   "source": [
    "from jb_common import *\n",
    "equals(1,item1 = 3, item2 = 4)"
   ]
  },
  {
   "cell_type": "code",
   "execution_count": 45,
   "id": "165c812e-49e8-4ad8-935a-96277c81cbd5",
   "metadata": {},
   "outputs": [
    {
     "data": {
      "text/plain": [
       "1"
      ]
     },
     "execution_count": 45,
     "metadata": {},
     "output_type": "execute_result"
    }
   ],
   "source": [
    "(1,2)[0]"
   ]
  },
  {
   "cell_type": "code",
   "execution_count": null,
   "id": "3e50467d-f249-4bba-aeba-94f9ea3092f7",
   "metadata": {},
   "outputs": [],
   "source": []
  }
 ],
 "metadata": {
  "kernelspec": {
   "display_name": "Python 3 (ipykernel)",
   "language": "python",
   "name": "python3"
  },
  "language_info": {
   "codemirror_mode": {
    "name": "ipython",
    "version": 3
   },
   "file_extension": ".py",
   "mimetype": "text/x-python",
   "name": "python",
   "nbconvert_exporter": "python",
   "pygments_lexer": "ipython3",
   "version": "3.10.12"
  }
 },
 "nbformat": 4,
 "nbformat_minor": 5
}
