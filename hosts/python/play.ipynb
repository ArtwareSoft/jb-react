{
 "cells": [
  {
   "cell_type": "code",
   "execution_count": 1,
   "id": "e8b43cf9-725a-4a27-9031-0322a7d48dd4",
   "metadata": {},
   "outputs": [],
   "source": [
    "import js2py\n",
    "from js2py.es6 import js6_to_js5"
   ]
  },
  {
   "cell_type": "code",
   "execution_count": 186,
   "id": "036d4376-1682-4309-ac1d-a5580ac71072",
   "metadata": {},
   "outputs": [],
   "source": [
    "code = '''\n",
    "({ ...{a:3 } })\n",
    "'''"
   ]
  },
  {
   "cell_type": "code",
   "execution_count": 183,
   "id": "016aeb0a-2201-48f3-a708-40ac50dc8430",
   "metadata": {},
   "outputs": [
    {
     "name": "stdout",
     "output_type": "stream",
     "text": [
      "Defaulting to user installation because normal site-packages is not writeable\n",
      "Collecting PyBabeljs\n",
      "  Downloading PyBabeljs-0.0.8-py3-none-any.whl (232 kB)\n",
      "\u001b[2K     \u001b[38;2;114;156;31m━━━━━━━━━━━━━━━━━━━━━━━━━━━━━━━━━━━━━━━\u001b[0m \u001b[32m232.9/232.9 kB\u001b[0m \u001b[31m1.2 MB/s\u001b[0m eta \u001b[36m0:00:00\u001b[0m[31m1.3 MB/s\u001b[0m eta \u001b[36m0:00:01\u001b[0m\n",
      "\u001b[?25hInstalling collected packages: PyBabeljs\n",
      "Successfully installed PyBabeljs-0.0.8\n",
      "\n",
      "\u001b[1m[\u001b[0m\u001b[34;49mnotice\u001b[0m\u001b[1;39;49m]\u001b[0m\u001b[39;49m A new release of pip is available: \u001b[0m\u001b[31;49m23.3.1\u001b[0m\u001b[39;49m -> \u001b[0m\u001b[32;49m23.3.2\u001b[0m\n",
      "\u001b[1m[\u001b[0m\u001b[34;49mnotice\u001b[0m\u001b[1;39;49m]\u001b[0m\u001b[39;49m To update, run: \u001b[0m\u001b[32;49mpython3 -m pip install --upgrade pip\u001b[0m\n"
     ]
    },
    {
     "data": {
      "text/plain": [
       "'\"use strict\";\\n\\nvar a = function a() {\\n  return 233;\\n};'"
      ]
     },
     "execution_count": 183,
     "metadata": {},
     "output_type": "execute_result"
    }
   ],
   "source": [
    "!pip install PyBabeljs\n",
    "from babeljs import transformer\n",
    "\n",
    "transformer.transform_string('const a = () => 233')"
   ]
  },
  {
   "cell_type": "code",
   "execution_count": 192,
   "id": "86965a2c-35b7-4338-8e9e-f7d33e095a40",
   "metadata": {},
   "outputs": [
    {
     "ename": "TransformError",
     "evalue": "Compilation Failed",
     "output_type": "error",
     "traceback": [
      "\u001b[0;31m---------------------------------------------------------------------------\u001b[0m",
      "\u001b[0;31mNodeException\u001b[0m                             Traceback (most recent call last)",
      "File \u001b[0;32m~/.local/lib/python3.10/site-packages/babeljs/transformer.py:67\u001b[0m, in \u001b[0;36mTransformer.transform_string\u001b[0;34m(self, js_content, **_opts)\u001b[0m\n\u001b[1;32m     66\u001b[0m \u001b[38;5;28;01mtry\u001b[39;00m:\n\u001b[0;32m---> 67\u001b[0m     result \u001b[38;5;241m=\u001b[39m \u001b[38;5;28;43mself\u001b[39;49m\u001b[38;5;241;43m.\u001b[39;49m\u001b[43mcontext\u001b[49m\u001b[38;5;241;43m.\u001b[39;49m\u001b[43mcall\u001b[49m\u001b[43m(\u001b[49m\u001b[38;5;124;43m'\u001b[39;49m\u001b[38;5;124;43mbabel.transform\u001b[39;49m\u001b[38;5;124;43m'\u001b[39;49m\u001b[43m,\u001b[49m\u001b[43m \u001b[49m\u001b[43mjs_content\u001b[49m\u001b[43m,\u001b[49m\u001b[43m \u001b[49m\u001b[43mopts\u001b[49m\u001b[43m)\u001b[49m\n\u001b[1;32m     68\u001b[0m     \u001b[38;5;28;01mreturn\u001b[39;00m result[\u001b[38;5;124m'\u001b[39m\u001b[38;5;124mcode\u001b[39m\u001b[38;5;124m'\u001b[39m]\n",
      "File \u001b[0;32m~/.local/lib/python3.10/site-packages/babeljs/jscontext.py:110\u001b[0m, in \u001b[0;36mMinimalNodeWrapper.call\u001b[0;34m(self, function, *args)\u001b[0m\n\u001b[1;32m    109\u001b[0m \u001b[38;5;28;01mif\u001b[39;00m \u001b[38;5;129;01mnot\u001b[39;00m result:\n\u001b[0;32m--> 110\u001b[0m     \u001b[38;5;28;01mraise\u001b[39;00m NodeException(\u001b[38;5;124m\"\u001b[39m\u001b[38;5;124mCompilation Failed\u001b[39m\u001b[38;5;124m\"\u001b[39m)\n\u001b[1;32m    112\u001b[0m result_lines \u001b[38;5;241m=\u001b[39m result\u001b[38;5;241m.\u001b[39mdecode(\u001b[38;5;124m'\u001b[39m\u001b[38;5;124mutf-8\u001b[39m\u001b[38;5;124m'\u001b[39m)\u001b[38;5;241m.\u001b[39mstrip()\u001b[38;5;241m.\u001b[39msplit(\u001b[38;5;124m'\u001b[39m\u001b[38;5;130;01m\\n\u001b[39;00m\u001b[38;5;124m'\u001b[39m)\n",
      "\u001b[0;31mNodeException\u001b[0m: Compilation Failed",
      "\nDuring handling of the above exception, another exception occurred:\n",
      "\u001b[0;31mTransformError\u001b[0m                            Traceback (most recent call last)",
      "Cell \u001b[0;32mIn[192], line 2\u001b[0m\n\u001b[1;32m      1\u001b[0m code \u001b[38;5;241m=\u001b[39m \u001b[38;5;28mopen\u001b[39m(\u001b[38;5;124m'\u001b[39m\u001b[38;5;124m../node/node-host.js\u001b[39m\u001b[38;5;124m'\u001b[39m, \u001b[38;5;124m'\u001b[39m\u001b[38;5;124mr\u001b[39m\u001b[38;5;124m'\u001b[39m)\u001b[38;5;241m.\u001b[39mread()\n\u001b[0;32m----> 2\u001b[0m fcode \u001b[38;5;241m=\u001b[39m \u001b[43mtransformer\u001b[49m\u001b[38;5;241;43m.\u001b[39;49m\u001b[43mtransform_string\u001b[49m\u001b[43m(\u001b[49m\u001b[43mcode\u001b[49m\u001b[43m)\u001b[49m\n\u001b[1;32m      3\u001b[0m js2py\u001b[38;5;241m.\u001b[39meval_js(fcode)\n\u001b[1;32m      4\u001b[0m \u001b[38;5;66;03m#open('host.py', 'w').write()\u001b[39;00m\n",
      "File \u001b[0;32m~/.local/lib/python3.10/site-packages/babeljs/transformer.py:82\u001b[0m, in \u001b[0;36mtransform_string\u001b[0;34m(js_content, **opts)\u001b[0m\n\u001b[1;32m     81\u001b[0m \u001b[38;5;28;01mdef\u001b[39;00m \u001b[38;5;21mtransform_string\u001b[39m(js_content, \u001b[38;5;241m*\u001b[39m\u001b[38;5;241m*\u001b[39mopts):\n\u001b[0;32m---> 82\u001b[0m     \u001b[38;5;28;01mreturn\u001b[39;00m \u001b[43mTransformer\u001b[49m\u001b[43m(\u001b[49m\u001b[38;5;241;43m*\u001b[39;49m\u001b[38;5;241;43m*\u001b[39;49m\u001b[43mopts\u001b[49m\u001b[43m)\u001b[49m\u001b[38;5;241;43m.\u001b[39;49m\u001b[43mtransform_string\u001b[49m\u001b[43m(\u001b[49m\u001b[43mjs_content\u001b[49m\u001b[43m)\u001b[49m\n",
      "File \u001b[0;32m~/.local/lib/python3.10/site-packages/babeljs/transformer.py:70\u001b[0m, in \u001b[0;36mTransformer.transform_string\u001b[0;34m(self, js_content, **_opts)\u001b[0m\n\u001b[1;32m     68\u001b[0m     \u001b[38;5;28;01mreturn\u001b[39;00m result[\u001b[38;5;124m'\u001b[39m\u001b[38;5;124mcode\u001b[39m\u001b[38;5;124m'\u001b[39m]\n\u001b[1;32m     69\u001b[0m \u001b[38;5;28;01mexcept\u001b[39;00m ContextException \u001b[38;5;28;01mas\u001b[39;00m e:\n\u001b[0;32m---> 70\u001b[0m     \u001b[38;5;28;01mraise\u001b[39;00m TransformError(e\u001b[38;5;241m.\u001b[39margs[\u001b[38;5;241m0\u001b[39m])\n",
      "\u001b[0;31mTransformError\u001b[0m: Compilation Failed"
     ]
    }
   ],
   "source": [
    "code = open('../node/node-host.js', 'r').read()\n",
    "fcode = transformer.transform_string(code)\n",
    "js2py.eval_js(fcode)\n",
    "#open('host.py', 'w').write()"
   ]
  },
  {
   "cell_type": "code",
   "execution_count": 123,
   "id": "8d20616e-3b55-440f-8724-3403ae5d07c3",
   "metadata": {},
   "outputs": [
    {
     "ename": "TypeError",
     "evalue": "'JSObj' object does not support item assignment",
     "output_type": "error",
     "traceback": [
      "\u001b[0;31m---------------------------------------------------------------------------\u001b[0m",
      "\u001b[0;31mTypeError\u001b[0m                                 Traceback (most recent call last)",
      "Cell \u001b[0;32mIn[123], line 18\u001b[0m\n\u001b[1;32m     15\u001b[0m         \u001b[38;5;28;01mreturn\u001b[39;00m \u001b[38;5;124mf\u001b[39m\u001b[38;5;124m\"\u001b[39m\u001b[38;5;124mJSObj(\u001b[39m\u001b[38;5;132;01m{\u001b[39;00mproperties\u001b[38;5;132;01m}\u001b[39;00m\u001b[38;5;124m)\u001b[39m\u001b[38;5;124m\"\u001b[39m\n\u001b[1;32m     17\u001b[0m a \u001b[38;5;241m=\u001b[39m JSObj()\n\u001b[0;32m---> 18\u001b[0m \u001b[43ma\u001b[49m\u001b[43m[\u001b[49m\u001b[38;5;124;43m'\u001b[39;49m\u001b[38;5;124;43mb\u001b[39;49m\u001b[38;5;124;43m'\u001b[39;49m\u001b[43m]\u001b[49m \u001b[38;5;241m=\u001b[39m \u001b[38;5;241m3\u001b[39m\n",
      "\u001b[0;31mTypeError\u001b[0m: 'JSObj' object does not support item assignment"
     ]
    }
   ],
   "source": [
    "class JSObj:\n",
    "    def __init__(self, **kwargs):\n",
    "        for key, value in kwargs.items():\n",
    "            setattr(self, key, value)\n",
    "\n",
    "    def __setattr__(self, name, value):\n",
    "        self.__dict__[name] = value\n",
    "\n",
    "    def __getattr__(self, name):\n",
    "        if name in self.__dict__:\n",
    "            return self.__dict__[name]\n",
    "\n",
    "    def __str__(self):\n",
    "        properties = ', '.join([f\"{key}: {value}\" for key, value in self.__dict__.items()])\n",
    "        return f\"JSObj({properties})\"\n",
    "\n",
    "a = JSObj()\n",
    "a['b'] = 3\n"
   ]
  },
  {
   "cell_type": "code",
   "execution_count": 95,
   "id": "aa23433a-0fbf-4492-8d99-cf3625e89d52",
   "metadata": {},
   "outputs": [
    {
     "name": "stdout",
     "output_type": "stream",
     "text": [
      "John\n",
      "30\n",
      "31\n",
      "123 Main St\n"
     ]
    }
   ],
   "source": [
    "class JSObj:\n",
    "    def __init__(self, **kwargs):\n",
    "        for key, value in kwargs.items():\n",
    "            setattr(self, key, value)\n",
    "\n",
    "    def __setattr__(self, name, value):\n",
    "        self.__dict__[name] = value\n",
    "\n",
    "    def __getattr__(self, name):\n",
    "        if name in self.__dict__:\n",
    "            return self.__dict__[name]\n",
    "        else:\n",
    "            raise AttributeError(f\"'{type(self).__name__}' object has no attribute '{name}'\")\n",
    "\n",
    "    def __str__(self):\n",
    "        properties = ', '.join([f\"{key}: {value}\" for key, value in self.__dict__.items()])\n",
    "        return f\"JSObj({properties})\"\n",
    "\n",
    "# Usage example:\n",
    "obj = JSObj(name=\"John\", age=30)\n",
    "\n",
    "print(obj.name)  # Output: John\n",
    "print(obj.age)   # Output: 30\n",
    "\n",
    "obj.age = 31\n",
    "print(obj.age)   # Output: 31\n",
    "\n",
    "# Adding a new property dynamically\n",
    "obj.address = \"123 Main St\"\n",
    "print(obj.address)  # Output: 123 Main St\n",
    "\n",
    "# Trying to access a non-existent property will raise an AttributeError\n",
    "# print(obj.city)  # This will raise an AttributeError\n"
   ]
  },
  {
   "cell_type": "code",
   "execution_count": 124,
   "id": "febf451b-2f9f-417c-abf0-9711004dd63c",
   "metadata": {},
   "outputs": [],
   "source": [
    "class Person:\n",
    "    def __init__(self, name, homeAddress):\n",
    "        self.type = 'person'\n",
    "        self.props = {\n",
    "            'name': name,\n",
    "            'homeAddress': homeAddress\n",
    "        }\n",
    "\n",
    "class Address:\n",
    "    def __init__(self):\n",
    "        self.type = 'address'\n",
    "        self.props = {}\n",
    "\n",
    "class StreetAddress(Address):\n",
    "    def __init__(self, state, city, street):\n",
    "        super().__init__()\n",
    "        self.props.update({\n",
    "            'state': state,\n",
    "            'city': city,\n",
    "            'street': street\n",
    "        })\n",
    "\n",
    "class POBox(Address):\n",
    "    def __init__(self, state, poboxNumber):\n",
    "        super().__init__()\n",
    "        self.props.update({\n",
    "            'state': state,\n",
    "            'poboxNumber': poboxNumber\n",
    "        })\n",
    "\n",
    "# Example usage\n",
    "dave = Person(\"Dave\", StreetAddress(state=\"NY\", city=\"NYC\", street=\"Pane\"))\n",
    "jane = Person(\"Jane\", POBox(state=\"NY\", poboxNumber=23432))"
   ]
  },
  {
   "cell_type": "code",
   "execution_count": null,
   "id": "844ab028-4cce-4607-a781-4ad094e93ead",
   "metadata": {},
   "outputs": [],
   "source": []
  }
 ],
 "metadata": {
  "kernelspec": {
   "display_name": "Python 3 (ipykernel)",
   "language": "python",
   "name": "python3"
  },
  "language_info": {
   "codemirror_mode": {
    "name": "ipython",
    "version": 3
   },
   "file_extension": ".py",
   "mimetype": "text/x-python",
   "name": "python",
   "nbconvert_exporter": "python",
   "pygments_lexer": "ipython3",
   "version": "3.10.12"
  }
 },
 "nbformat": 4,
 "nbformat_minor": 5
}
