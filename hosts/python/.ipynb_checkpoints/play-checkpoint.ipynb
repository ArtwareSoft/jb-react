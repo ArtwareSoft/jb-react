{
 "cells": [
  {
   "cell_type": "code",
   "execution_count": 1,
   "id": "e8b43cf9-725a-4a27-9031-0322a7d48dd4",
   "metadata": {},
   "outputs": [],
   "source": [
    "import js2py\n",
    "from js2py.es6 import js6_to_js5"
   ]
  },
  {
   "cell_type": "code",
   "execution_count": 49,
   "id": "036d4376-1682-4309-ac1d-a5580ac71072",
   "metadata": {},
   "outputs": [],
   "source": [
    "code = '''\n",
    "function codePackageNodeFS(baseDir) { return {\n",
    "    fileSymbols (path) {\n",
    "        function fileContent(path) {\n",
    "            const content = fs.readFileSync(`${baseDir}/${path}`, 'utf-8')\n",
    "            return {\n",
    "                path: '/' + path,\n",
    "                using: unique(content.split('\\n').map(x=>x.trim()))),\n",
    "            }\n",
    "        }\n",
    "   }}\n",
    "}\n",
    "\n",
    "\n",
    "'''"
   ]
  },
  {
   "cell_type": "code",
   "execution_count": 50,
   "id": "86965a2c-35b7-4338-8e9e-f7d33e095a40",
   "metadata": {},
   "outputs": [],
   "source": [
    "#code = open('../node/node-host.js', 'r').read()\n",
    "fcode = js6_to_js5(code)\n",
    "ycode = js2py.translate_js(fcode)\n",
    "#open('host.py', 'w').write()"
   ]
  },
  {
   "cell_type": "code",
   "execution_count": null,
   "id": "016aeb0a-2201-48f3-a708-40ac50dc8430",
   "metadata": {},
   "outputs": [],
   "source": []
  }
 ],
 "metadata": {
  "kernelspec": {
   "display_name": "Python 3 (ipykernel)",
   "language": "python",
   "name": "python3"
  },
  "language_info": {
   "codemirror_mode": {
    "name": "ipython",
    "version": 3
   },
   "file_extension": ".py",
   "mimetype": "text/x-python",
   "name": "python",
   "nbconvert_exporter": "python",
   "pygments_lexer": "ipython3",
   "version": "3.10.12"
  }
 },
 "nbformat": 4,
 "nbformat_minor": 5
}
